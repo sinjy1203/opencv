{
  "nbformat": 4,
  "nbformat_minor": 0,
  "metadata": {
    "colab": {
      "name": "opencv_color_detect.ipynb",
      "provenance": [],
      "authorship_tag": "ABX9TyO0tlQX+2A6tNmgth9JHODo",
      "include_colab_link": true
    },
    "kernelspec": {
      "name": "python3",
      "display_name": "Python 3"
    }
  },
  "cells": [
    {
      "cell_type": "markdown",
      "metadata": {
        "id": "view-in-github",
        "colab_type": "text"
      },
      "source": [
        "<a href=\"https://colab.research.google.com/github/sinjy1203/opencv/blob/master/opencv_color_detect.ipynb\" target=\"_parent\"><img src=\"https://colab.research.google.com/assets/colab-badge.svg\" alt=\"Open In Colab\"/></a>"
      ]
    },
    {
      "cell_type": "code",
      "metadata": {
        "id": "8CKIko8NWqk8",
        "colab_type": "code",
        "colab": {}
      },
      "source": [
        "import cv2 as cv\n",
        "import numpy as np\n",
        "\n",
        "lower = 0\n",
        "upper = 0\n",
        "def nothing(x):\n",
        "    pass\n",
        "\n",
        "def callback(event, x, y, flags, param):\n",
        "    global lower, upper, threshold\n",
        "    threshold = cv.getTrackbarPos(\"threshold\", \"mask\")\n",
        "    if event == cv.EVENT_LBUTTONDOWN:\n",
        "        color = img_color[y,x]\n",
        "        hsv = cv.cvtColor(np.array([[color]]), cv.COLOR_BGR2HSV)\n",
        "        hsv = hsv[0][0]\n",
        "        print(hsv)\n",
        "        lower = np.array([hsv[0] - 10, threshold, threshold])\n",
        "        upper = np.array([hsv[0] + 10, 255, 255])\n",
        "\n",
        "\n",
        "cv.namedWindow(\"color\")\n",
        "cv.setMouseCallback('color', callback)\n",
        "\n",
        "cv.namedWindow(\"mask\")\n",
        "cv.createTrackbar(\"threshold\", \"mask\", 0, 255, nothing)\n",
        "cv.setTrackbarPos(\"threshold\", \"mask\", 30)\n",
        "\n",
        "cv.namedWindow(\"mask\")\n",
        "cv.createTrackbar(\"threshold2\", \"mask\", 1, 11, nothing)\n",
        "cv.setTrackbarPos(\"threshold2\", \"mask\", 11)\n",
        "\n",
        "cap = cv.VideoCapture(0)\n",
        "while True:\n",
        "    ret, img_color = cap.read()\n",
        "    img_hsv = cv.cvtColor(img_color, cv.COLOR_BGR2HSV)\n",
        "    img_mask = cv.inRange(img_hsv, lower, upper)\n",
        "    threshold2 = cv.getTrackbarPos(\"threshold2\", \"mask\")\n",
        "    kernel = np.ones((threshold2,threshold2), np.uint8)\n",
        "    img_mask = cv.morphologyEx(img_mask, cv.MORPH_OPEN, kernel)\n",
        "    img_mask = cv.morphologyEx(img_mask, cv.MORPH_CLOSE, kernel)\n",
        "    img_result = cv.bitwise_and(img_color, img_color, mask=img_mask)\n",
        "\n",
        "\n",
        "    cv.imshow(\"color\", img_color)\n",
        "    cv.imshow(\"mask\", img_result)\n",
        "    if cv.waitKey(1)%0xFF == 27:\n",
        "        break\n",
        "\n",
        "cap.release()\n",
        "cv.destroyAllWindows()"
      ],
      "execution_count": 0,
      "outputs": []
    }
  ]
}